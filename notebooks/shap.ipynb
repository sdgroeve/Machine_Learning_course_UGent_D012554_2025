{
  "cells": [
    {
      "cell_type": "markdown",
      "metadata": {
        "id": "view-in-github",
        "colab_type": "text"
      },
      "source": [
        "<a href=\"https://colab.research.google.com/github/sdgroeve/Machine_Learning_course_UGent_D012554_2025/blob/main/notebooks/shap.ipynb\" target=\"_parent\"><img src=\"https://colab.research.google.com/assets/colab-badge.svg\" alt=\"Open In Colab\"/></a>"
      ]
    },
    {
      "cell_type": "markdown",
      "metadata": {
        "id": "vBCBqS9syLBS"
      },
      "source": [
        "# Interpreting Biomedical Models with SHAP\n",
        "\n",
        "This notebook demonstrates how to use the SHAP (SHapley Additive exPlanations) framework to interpret the predictions of a machine learning model trained on a common biomedical dataset. We will predict the presence of heart disease based on clinical features using a Gradient Boosting model and then use SHAP to understand which factors drive the model's predictions, both globally and for individual patients. SHAP provides a principled way to assign importance scores to features, enhancing model transparency."
      ]
    },
    {
      "cell_type": "markdown",
      "metadata": {
        "id": "G8P18o5ryLBU"
      },
      "source": [
        "## Learning Objectives\n",
        "\n",
        "*   Understand the intuition behind Shapley values and the SHAP framework\n",
        "*   Generate global and local explanations for a tree-based model trained on biomedical data\n",
        "*   Recognize common pitfalls when interpreting SHAP in health contexts"
      ]
    },
    {
      "cell_type": "markdown",
      "metadata": {
        "id": "9gcapeqSyLBV"
      },
      "source": [
        "## Environment & Data Sources\n",
        "\n",
        "*   **Python:** 3.x\n",
        "*   **Libraries:** `shap` (0.45.0 specified), `pandas`, `numpy`, `scikit-learn`, `matplotlib`, `seaborn` (optional, for aesthetics), `joblib` (for saving)\n",
        "*   **Dataset:** We will use the **UCI Heart Disease dataset**. This dataset contains 14 attributes collected from patients, aiming to predict the presence or absence of heart disease. A processed version is conveniently available via the `shap` library itself.\n",
        "    *   *Source:* [https://archive.ics.uci.edu/ml/datasets/heart+Disease](https://archive.ics.uci.edu/ml/datasets/heart+Disease)"
      ]
    },
    {
      "cell_type": "code",
      "execution_count": 4,
      "metadata": {
        "id": "8rNEajF2yLBV",
        "outputId": "2e8a8ecd-9de7-400a-a8cb-385874fc4a25",
        "colab": {
          "base_uri": "https://localhost:8080/"
        }
      },
      "outputs": [
        {
          "output_type": "stream",
          "name": "stdout",
          "text": [
            "SHAP version: 0.47.1\n",
            "Pandas version: 2.2.2\n",
            "Numpy version: 2.0.2\n",
            "Scikit-learn version: 1.6.1\n",
            "Joblib version: 1.4.2\n"
          ]
        }
      ],
      "source": [
        "# NOTE: The original request included an install command.\n",
        "# If running locally or in an environment where packages aren't pre-installed, uncomment the line below.\n",
        "# !pip install shap==0.45.0 scikit-learn pandas matplotlib seaborn joblib -q\n",
        "\n",
        "# Import necessary libraries\n",
        "import shap\n",
        "import pandas as pd\n",
        "import numpy as np\n",
        "import matplotlib.pyplot as plt\n",
        "import seaborn as sns\n",
        "import joblib\n",
        "import pathlib\n",
        "import sklearn\n",
        "from sklearn.datasets import fetch_openml\n",
        "from sklearn.model_selection import train_test_split\n",
        "from sklearn.metrics import roc_auc_score, average_precision_score\n",
        "from sklearn.ensemble import GradientBoostingClassifier\n",
        "\n",
        "# Set plotting style and ensure plots appear inline\n",
        "sns.set_style(\"whitegrid\")\n",
        "%matplotlib inline\n",
        "\n",
        "# Print library versions\n",
        "print(f\"SHAP version: {shap.__version__}\")\n",
        "print(f\"Pandas version: {pd.__version__}\")\n",
        "print(f\"Numpy version: {np.__version__}\")\n",
        "print(f\"Scikit-learn version: {sklearn.__version__}\")\n",
        "print(f\"Joblib version: {joblib.__version__}\")"
      ]
    },
    {
      "cell_type": "markdown",
      "metadata": {
        "id": "yZeJ3rRUyLBW"
      },
      "source": [
        "## 1. Data Loading & Initial Glance\n",
        "\n",
        "We load the UCI Heart Disease dataset. The features include:\n",
        "\n",
        "*   **Age:** Age in years\n",
        "*   **Sex:** (1 = male; 0 = female)\n",
        "*   **ChestPain:** Chest pain type (e.g., typical angina, atypical angina)\n",
        "*   **RestBP:** Resting blood pressure (mm Hg)\n",
        "*   **Chol:** Serum cholesterol (mg/dl)\n",
        "*   **Fbs:** Fasting blood sugar > 120 mg/dl (1 = true; 0 = false)\n",
        "*   **RestECG:** Resting electrocardiographic results\n",
        "*   **MaxHR:** Maximum heart rate achieved\n",
        "*   **ExAng:** Exercise induced angina (1 = yes; 0 = no)\n",
        "*   **Oldpeak:** ST depression induced by exercise relative to rest\n",
        "*   **Slope:** The slope of the peak exercise ST segment\n",
        "*   **Ca:** Number of major vessels (0-3) colored by fluoroscopy\n",
        "*   **Thal:** Thalassemia defect type\n",
        "\n",
        "**Target Label:**\n",
        "*   **output:** Presence of heart disease (1 = True, 0 = False). This is our prediction target.\n",
        "\n",
        "*Protected Attributes Note:* Features like 'Age' and 'Sex' are often considered protected attributes in fairness analysis. While we use them here for demonstrating SHAP, a real-world application would require careful consideration of potential biases (discussed later)."
      ]
    },
    {
      "cell_type": "code",
      "source": [
        "d = fetch_openml(data_id=43398,as_frame=True)\n",
        "d.frame"
      ],
      "metadata": {
        "id": "pTx5fjVz1p00",
        "outputId": "98550e5c-762d-4ac3-b037-a6dbd0b4ff2b",
        "colab": {
          "base_uri": "https://localhost:8080/",
          "height": 424
        }
      },
      "execution_count": 11,
      "outputs": [
        {
          "output_type": "execute_result",
          "data": {
            "text/plain": [
              "      age  sex   cp  trestbps   chol  fbs  restecg  thalach  exang  oldpeak  \\\n",
              "0    63.0  1.0  3.0     145.0  233.0  1.0      0.0    150.0    0.0      2.3   \n",
              "1    37.0  1.0  2.0     130.0  250.0  0.0      1.0    187.0    0.0      3.5   \n",
              "2    41.0  0.0  1.0     130.0  204.0  0.0      0.0    172.0    0.0      1.4   \n",
              "3    56.0  1.0  1.0     120.0  236.0  0.0      1.0    178.0    0.0      0.8   \n",
              "4    57.0  0.0  0.0     120.0  354.0  0.0      1.0    163.0    1.0      0.6   \n",
              "..    ...  ...  ...       ...    ...  ...      ...      ...    ...      ...   \n",
              "298  57.0  0.0  0.0     140.0  241.0  0.0      1.0    123.0    1.0      0.2   \n",
              "299  45.0  1.0  3.0     110.0  264.0  0.0      1.0    132.0    0.0      1.2   \n",
              "300  68.0  1.0  0.0     144.0  193.0  1.0      1.0    141.0    0.0      3.4   \n",
              "301  57.0  1.0  0.0     130.0  131.0  0.0      1.0    115.0    1.0      1.2   \n",
              "302  57.0  0.0  1.0     130.0  236.0  0.0      0.0    174.0    0.0      0.0   \n",
              "\n",
              "     slope   ca  thal  target  \n",
              "0      0.0  0.0   1.0     1.0  \n",
              "1      0.0  0.0   2.0     1.0  \n",
              "2      2.0  0.0   2.0     1.0  \n",
              "3      2.0  0.0   2.0     1.0  \n",
              "4      2.0  0.0   2.0     1.0  \n",
              "..     ...  ...   ...     ...  \n",
              "298    1.0  0.0   3.0     0.0  \n",
              "299    1.0  0.0   3.0     0.0  \n",
              "300    1.0  2.0   3.0     0.0  \n",
              "301    1.0  1.0   3.0     0.0  \n",
              "302    1.0  1.0   2.0     0.0  \n",
              "\n",
              "[303 rows x 14 columns]"
            ],
            "text/html": [
              "\n",
              "  <div id=\"df-2ed4fd33-9555-4fc5-af06-d0fdb253363f\" class=\"colab-df-container\">\n",
              "    <div>\n",
              "<style scoped>\n",
              "    .dataframe tbody tr th:only-of-type {\n",
              "        vertical-align: middle;\n",
              "    }\n",
              "\n",
              "    .dataframe tbody tr th {\n",
              "        vertical-align: top;\n",
              "    }\n",
              "\n",
              "    .dataframe thead th {\n",
              "        text-align: right;\n",
              "    }\n",
              "</style>\n",
              "<table border=\"1\" class=\"dataframe\">\n",
              "  <thead>\n",
              "    <tr style=\"text-align: right;\">\n",
              "      <th></th>\n",
              "      <th>age</th>\n",
              "      <th>sex</th>\n",
              "      <th>cp</th>\n",
              "      <th>trestbps</th>\n",
              "      <th>chol</th>\n",
              "      <th>fbs</th>\n",
              "      <th>restecg</th>\n",
              "      <th>thalach</th>\n",
              "      <th>exang</th>\n",
              "      <th>oldpeak</th>\n",
              "      <th>slope</th>\n",
              "      <th>ca</th>\n",
              "      <th>thal</th>\n",
              "      <th>target</th>\n",
              "    </tr>\n",
              "  </thead>\n",
              "  <tbody>\n",
              "    <tr>\n",
              "      <th>0</th>\n",
              "      <td>63.0</td>\n",
              "      <td>1.0</td>\n",
              "      <td>3.0</td>\n",
              "      <td>145.0</td>\n",
              "      <td>233.0</td>\n",
              "      <td>1.0</td>\n",
              "      <td>0.0</td>\n",
              "      <td>150.0</td>\n",
              "      <td>0.0</td>\n",
              "      <td>2.3</td>\n",
              "      <td>0.0</td>\n",
              "      <td>0.0</td>\n",
              "      <td>1.0</td>\n",
              "      <td>1.0</td>\n",
              "    </tr>\n",
              "    <tr>\n",
              "      <th>1</th>\n",
              "      <td>37.0</td>\n",
              "      <td>1.0</td>\n",
              "      <td>2.0</td>\n",
              "      <td>130.0</td>\n",
              "      <td>250.0</td>\n",
              "      <td>0.0</td>\n",
              "      <td>1.0</td>\n",
              "      <td>187.0</td>\n",
              "      <td>0.0</td>\n",
              "      <td>3.5</td>\n",
              "      <td>0.0</td>\n",
              "      <td>0.0</td>\n",
              "      <td>2.0</td>\n",
              "      <td>1.0</td>\n",
              "    </tr>\n",
              "    <tr>\n",
              "      <th>2</th>\n",
              "      <td>41.0</td>\n",
              "      <td>0.0</td>\n",
              "      <td>1.0</td>\n",
              "      <td>130.0</td>\n",
              "      <td>204.0</td>\n",
              "      <td>0.0</td>\n",
              "      <td>0.0</td>\n",
              "      <td>172.0</td>\n",
              "      <td>0.0</td>\n",
              "      <td>1.4</td>\n",
              "      <td>2.0</td>\n",
              "      <td>0.0</td>\n",
              "      <td>2.0</td>\n",
              "      <td>1.0</td>\n",
              "    </tr>\n",
              "    <tr>\n",
              "      <th>3</th>\n",
              "      <td>56.0</td>\n",
              "      <td>1.0</td>\n",
              "      <td>1.0</td>\n",
              "      <td>120.0</td>\n",
              "      <td>236.0</td>\n",
              "      <td>0.0</td>\n",
              "      <td>1.0</td>\n",
              "      <td>178.0</td>\n",
              "      <td>0.0</td>\n",
              "      <td>0.8</td>\n",
              "      <td>2.0</td>\n",
              "      <td>0.0</td>\n",
              "      <td>2.0</td>\n",
              "      <td>1.0</td>\n",
              "    </tr>\n",
              "    <tr>\n",
              "      <th>4</th>\n",
              "      <td>57.0</td>\n",
              "      <td>0.0</td>\n",
              "      <td>0.0</td>\n",
              "      <td>120.0</td>\n",
              "      <td>354.0</td>\n",
              "      <td>0.0</td>\n",
              "      <td>1.0</td>\n",
              "      <td>163.0</td>\n",
              "      <td>1.0</td>\n",
              "      <td>0.6</td>\n",
              "      <td>2.0</td>\n",
              "      <td>0.0</td>\n",
              "      <td>2.0</td>\n",
              "      <td>1.0</td>\n",
              "    </tr>\n",
              "    <tr>\n",
              "      <th>...</th>\n",
              "      <td>...</td>\n",
              "      <td>...</td>\n",
              "      <td>...</td>\n",
              "      <td>...</td>\n",
              "      <td>...</td>\n",
              "      <td>...</td>\n",
              "      <td>...</td>\n",
              "      <td>...</td>\n",
              "      <td>...</td>\n",
              "      <td>...</td>\n",
              "      <td>...</td>\n",
              "      <td>...</td>\n",
              "      <td>...</td>\n",
              "      <td>...</td>\n",
              "    </tr>\n",
              "    <tr>\n",
              "      <th>298</th>\n",
              "      <td>57.0</td>\n",
              "      <td>0.0</td>\n",
              "      <td>0.0</td>\n",
              "      <td>140.0</td>\n",
              "      <td>241.0</td>\n",
              "      <td>0.0</td>\n",
              "      <td>1.0</td>\n",
              "      <td>123.0</td>\n",
              "      <td>1.0</td>\n",
              "      <td>0.2</td>\n",
              "      <td>1.0</td>\n",
              "      <td>0.0</td>\n",
              "      <td>3.0</td>\n",
              "      <td>0.0</td>\n",
              "    </tr>\n",
              "    <tr>\n",
              "      <th>299</th>\n",
              "      <td>45.0</td>\n",
              "      <td>1.0</td>\n",
              "      <td>3.0</td>\n",
              "      <td>110.0</td>\n",
              "      <td>264.0</td>\n",
              "      <td>0.0</td>\n",
              "      <td>1.0</td>\n",
              "      <td>132.0</td>\n",
              "      <td>0.0</td>\n",
              "      <td>1.2</td>\n",
              "      <td>1.0</td>\n",
              "      <td>0.0</td>\n",
              "      <td>3.0</td>\n",
              "      <td>0.0</td>\n",
              "    </tr>\n",
              "    <tr>\n",
              "      <th>300</th>\n",
              "      <td>68.0</td>\n",
              "      <td>1.0</td>\n",
              "      <td>0.0</td>\n",
              "      <td>144.0</td>\n",
              "      <td>193.0</td>\n",
              "      <td>1.0</td>\n",
              "      <td>1.0</td>\n",
              "      <td>141.0</td>\n",
              "      <td>0.0</td>\n",
              "      <td>3.4</td>\n",
              "      <td>1.0</td>\n",
              "      <td>2.0</td>\n",
              "      <td>3.0</td>\n",
              "      <td>0.0</td>\n",
              "    </tr>\n",
              "    <tr>\n",
              "      <th>301</th>\n",
              "      <td>57.0</td>\n",
              "      <td>1.0</td>\n",
              "      <td>0.0</td>\n",
              "      <td>130.0</td>\n",
              "      <td>131.0</td>\n",
              "      <td>0.0</td>\n",
              "      <td>1.0</td>\n",
              "      <td>115.0</td>\n",
              "      <td>1.0</td>\n",
              "      <td>1.2</td>\n",
              "      <td>1.0</td>\n",
              "      <td>1.0</td>\n",
              "      <td>3.0</td>\n",
              "      <td>0.0</td>\n",
              "    </tr>\n",
              "    <tr>\n",
              "      <th>302</th>\n",
              "      <td>57.0</td>\n",
              "      <td>0.0</td>\n",
              "      <td>1.0</td>\n",
              "      <td>130.0</td>\n",
              "      <td>236.0</td>\n",
              "      <td>0.0</td>\n",
              "      <td>0.0</td>\n",
              "      <td>174.0</td>\n",
              "      <td>0.0</td>\n",
              "      <td>0.0</td>\n",
              "      <td>1.0</td>\n",
              "      <td>1.0</td>\n",
              "      <td>2.0</td>\n",
              "      <td>0.0</td>\n",
              "    </tr>\n",
              "  </tbody>\n",
              "</table>\n",
              "<p>303 rows × 14 columns</p>\n",
              "</div>\n",
              "    <div class=\"colab-df-buttons\">\n",
              "\n",
              "  <div class=\"colab-df-container\">\n",
              "    <button class=\"colab-df-convert\" onclick=\"convertToInteractive('df-2ed4fd33-9555-4fc5-af06-d0fdb253363f')\"\n",
              "            title=\"Convert this dataframe to an interactive table.\"\n",
              "            style=\"display:none;\">\n",
              "\n",
              "  <svg xmlns=\"http://www.w3.org/2000/svg\" height=\"24px\" viewBox=\"0 -960 960 960\">\n",
              "    <path d=\"M120-120v-720h720v720H120Zm60-500h600v-160H180v160Zm220 220h160v-160H400v160Zm0 220h160v-160H400v160ZM180-400h160v-160H180v160Zm440 0h160v-160H620v160ZM180-180h160v-160H180v160Zm440 0h160v-160H620v160Z\"/>\n",
              "  </svg>\n",
              "    </button>\n",
              "\n",
              "  <style>\n",
              "    .colab-df-container {\n",
              "      display:flex;\n",
              "      gap: 12px;\n",
              "    }\n",
              "\n",
              "    .colab-df-convert {\n",
              "      background-color: #E8F0FE;\n",
              "      border: none;\n",
              "      border-radius: 50%;\n",
              "      cursor: pointer;\n",
              "      display: none;\n",
              "      fill: #1967D2;\n",
              "      height: 32px;\n",
              "      padding: 0 0 0 0;\n",
              "      width: 32px;\n",
              "    }\n",
              "\n",
              "    .colab-df-convert:hover {\n",
              "      background-color: #E2EBFA;\n",
              "      box-shadow: 0px 1px 2px rgba(60, 64, 67, 0.3), 0px 1px 3px 1px rgba(60, 64, 67, 0.15);\n",
              "      fill: #174EA6;\n",
              "    }\n",
              "\n",
              "    .colab-df-buttons div {\n",
              "      margin-bottom: 4px;\n",
              "    }\n",
              "\n",
              "    [theme=dark] .colab-df-convert {\n",
              "      background-color: #3B4455;\n",
              "      fill: #D2E3FC;\n",
              "    }\n",
              "\n",
              "    [theme=dark] .colab-df-convert:hover {\n",
              "      background-color: #434B5C;\n",
              "      box-shadow: 0px 1px 3px 1px rgba(0, 0, 0, 0.15);\n",
              "      filter: drop-shadow(0px 1px 2px rgba(0, 0, 0, 0.3));\n",
              "      fill: #FFFFFF;\n",
              "    }\n",
              "  </style>\n",
              "\n",
              "    <script>\n",
              "      const buttonEl =\n",
              "        document.querySelector('#df-2ed4fd33-9555-4fc5-af06-d0fdb253363f button.colab-df-convert');\n",
              "      buttonEl.style.display =\n",
              "        google.colab.kernel.accessAllowed ? 'block' : 'none';\n",
              "\n",
              "      async function convertToInteractive(key) {\n",
              "        const element = document.querySelector('#df-2ed4fd33-9555-4fc5-af06-d0fdb253363f');\n",
              "        const dataTable =\n",
              "          await google.colab.kernel.invokeFunction('convertToInteractive',\n",
              "                                                    [key], {});\n",
              "        if (!dataTable) return;\n",
              "\n",
              "        const docLinkHtml = 'Like what you see? Visit the ' +\n",
              "          '<a target=\"_blank\" href=https://colab.research.google.com/notebooks/data_table.ipynb>data table notebook</a>'\n",
              "          + ' to learn more about interactive tables.';\n",
              "        element.innerHTML = '';\n",
              "        dataTable['output_type'] = 'display_data';\n",
              "        await google.colab.output.renderOutput(dataTable, element);\n",
              "        const docLink = document.createElement('div');\n",
              "        docLink.innerHTML = docLinkHtml;\n",
              "        element.appendChild(docLink);\n",
              "      }\n",
              "    </script>\n",
              "  </div>\n",
              "\n",
              "\n",
              "<div id=\"df-1e0a6ba4-6fc9-43e4-aa23-72e0d79ca044\">\n",
              "  <button class=\"colab-df-quickchart\" onclick=\"quickchart('df-1e0a6ba4-6fc9-43e4-aa23-72e0d79ca044')\"\n",
              "            title=\"Suggest charts\"\n",
              "            style=\"display:none;\">\n",
              "\n",
              "<svg xmlns=\"http://www.w3.org/2000/svg\" height=\"24px\"viewBox=\"0 0 24 24\"\n",
              "     width=\"24px\">\n",
              "    <g>\n",
              "        <path d=\"M19 3H5c-1.1 0-2 .9-2 2v14c0 1.1.9 2 2 2h14c1.1 0 2-.9 2-2V5c0-1.1-.9-2-2-2zM9 17H7v-7h2v7zm4 0h-2V7h2v10zm4 0h-2v-4h2v4z\"/>\n",
              "    </g>\n",
              "</svg>\n",
              "  </button>\n",
              "\n",
              "<style>\n",
              "  .colab-df-quickchart {\n",
              "      --bg-color: #E8F0FE;\n",
              "      --fill-color: #1967D2;\n",
              "      --hover-bg-color: #E2EBFA;\n",
              "      --hover-fill-color: #174EA6;\n",
              "      --disabled-fill-color: #AAA;\n",
              "      --disabled-bg-color: #DDD;\n",
              "  }\n",
              "\n",
              "  [theme=dark] .colab-df-quickchart {\n",
              "      --bg-color: #3B4455;\n",
              "      --fill-color: #D2E3FC;\n",
              "      --hover-bg-color: #434B5C;\n",
              "      --hover-fill-color: #FFFFFF;\n",
              "      --disabled-bg-color: #3B4455;\n",
              "      --disabled-fill-color: #666;\n",
              "  }\n",
              "\n",
              "  .colab-df-quickchart {\n",
              "    background-color: var(--bg-color);\n",
              "    border: none;\n",
              "    border-radius: 50%;\n",
              "    cursor: pointer;\n",
              "    display: none;\n",
              "    fill: var(--fill-color);\n",
              "    height: 32px;\n",
              "    padding: 0;\n",
              "    width: 32px;\n",
              "  }\n",
              "\n",
              "  .colab-df-quickchart:hover {\n",
              "    background-color: var(--hover-bg-color);\n",
              "    box-shadow: 0 1px 2px rgba(60, 64, 67, 0.3), 0 1px 3px 1px rgba(60, 64, 67, 0.15);\n",
              "    fill: var(--button-hover-fill-color);\n",
              "  }\n",
              "\n",
              "  .colab-df-quickchart-complete:disabled,\n",
              "  .colab-df-quickchart-complete:disabled:hover {\n",
              "    background-color: var(--disabled-bg-color);\n",
              "    fill: var(--disabled-fill-color);\n",
              "    box-shadow: none;\n",
              "  }\n",
              "\n",
              "  .colab-df-spinner {\n",
              "    border: 2px solid var(--fill-color);\n",
              "    border-color: transparent;\n",
              "    border-bottom-color: var(--fill-color);\n",
              "    animation:\n",
              "      spin 1s steps(1) infinite;\n",
              "  }\n",
              "\n",
              "  @keyframes spin {\n",
              "    0% {\n",
              "      border-color: transparent;\n",
              "      border-bottom-color: var(--fill-color);\n",
              "      border-left-color: var(--fill-color);\n",
              "    }\n",
              "    20% {\n",
              "      border-color: transparent;\n",
              "      border-left-color: var(--fill-color);\n",
              "      border-top-color: var(--fill-color);\n",
              "    }\n",
              "    30% {\n",
              "      border-color: transparent;\n",
              "      border-left-color: var(--fill-color);\n",
              "      border-top-color: var(--fill-color);\n",
              "      border-right-color: var(--fill-color);\n",
              "    }\n",
              "    40% {\n",
              "      border-color: transparent;\n",
              "      border-right-color: var(--fill-color);\n",
              "      border-top-color: var(--fill-color);\n",
              "    }\n",
              "    60% {\n",
              "      border-color: transparent;\n",
              "      border-right-color: var(--fill-color);\n",
              "    }\n",
              "    80% {\n",
              "      border-color: transparent;\n",
              "      border-right-color: var(--fill-color);\n",
              "      border-bottom-color: var(--fill-color);\n",
              "    }\n",
              "    90% {\n",
              "      border-color: transparent;\n",
              "      border-bottom-color: var(--fill-color);\n",
              "    }\n",
              "  }\n",
              "</style>\n",
              "\n",
              "  <script>\n",
              "    async function quickchart(key) {\n",
              "      const quickchartButtonEl =\n",
              "        document.querySelector('#' + key + ' button');\n",
              "      quickchartButtonEl.disabled = true;  // To prevent multiple clicks.\n",
              "      quickchartButtonEl.classList.add('colab-df-spinner');\n",
              "      try {\n",
              "        const charts = await google.colab.kernel.invokeFunction(\n",
              "            'suggestCharts', [key], {});\n",
              "      } catch (error) {\n",
              "        console.error('Error during call to suggestCharts:', error);\n",
              "      }\n",
              "      quickchartButtonEl.classList.remove('colab-df-spinner');\n",
              "      quickchartButtonEl.classList.add('colab-df-quickchart-complete');\n",
              "    }\n",
              "    (() => {\n",
              "      let quickchartButtonEl =\n",
              "        document.querySelector('#df-1e0a6ba4-6fc9-43e4-aa23-72e0d79ca044 button');\n",
              "      quickchartButtonEl.style.display =\n",
              "        google.colab.kernel.accessAllowed ? 'block' : 'none';\n",
              "    })();\n",
              "  </script>\n",
              "</div>\n",
              "\n",
              "    </div>\n",
              "  </div>\n"
            ],
            "application/vnd.google.colaboratory.intrinsic+json": {
              "type": "dataframe",
              "summary": "{\n  \"name\": \"d\",\n  \"rows\": 303,\n  \"fields\": [\n    {\n      \"column\": \"age\",\n      \"properties\": {\n        \"dtype\": \"number\",\n        \"std\": 9.082100989837858,\n        \"min\": 29.0,\n        \"max\": 77.0,\n        \"num_unique_values\": 41,\n        \"samples\": [\n          46.0,\n          66.0,\n          48.0\n        ],\n        \"semantic_type\": \"\",\n        \"description\": \"\"\n      }\n    },\n    {\n      \"column\": \"sex\",\n      \"properties\": {\n        \"dtype\": \"number\",\n        \"std\": 0.4660108233396251,\n        \"min\": 0.0,\n        \"max\": 1.0,\n        \"num_unique_values\": 2,\n        \"samples\": [\n          0.0,\n          1.0\n        ],\n        \"semantic_type\": \"\",\n        \"description\": \"\"\n      }\n    },\n    {\n      \"column\": \"cp\",\n      \"properties\": {\n        \"dtype\": \"number\",\n        \"std\": 1.0320524894832992,\n        \"min\": 0.0,\n        \"max\": 3.0,\n        \"num_unique_values\": 4,\n        \"samples\": [\n          2.0,\n          0.0\n        ],\n        \"semantic_type\": \"\",\n        \"description\": \"\"\n      }\n    },\n    {\n      \"column\": \"trestbps\",\n      \"properties\": {\n        \"dtype\": \"number\",\n        \"std\": 17.53814281351709,\n        \"min\": 94.0,\n        \"max\": 200.0,\n        \"num_unique_values\": 49,\n        \"samples\": [\n          104.0,\n          123.0\n        ],\n        \"semantic_type\": \"\",\n        \"description\": \"\"\n      }\n    },\n    {\n      \"column\": \"chol\",\n      \"properties\": {\n        \"dtype\": \"number\",\n        \"std\": 51.830750987930045,\n        \"min\": 126.0,\n        \"max\": 564.0,\n        \"num_unique_values\": 152,\n        \"samples\": [\n          277.0,\n          169.0\n        ],\n        \"semantic_type\": \"\",\n        \"description\": \"\"\n      }\n    },\n    {\n      \"column\": \"fbs\",\n      \"properties\": {\n        \"dtype\": \"number\",\n        \"std\": 0.35619787492797594,\n        \"min\": 0.0,\n        \"max\": 1.0,\n        \"num_unique_values\": 2,\n        \"samples\": [\n          0.0,\n          1.0\n        ],\n        \"semantic_type\": \"\",\n        \"description\": \"\"\n      }\n    },\n    {\n      \"column\": \"restecg\",\n      \"properties\": {\n        \"dtype\": \"number\",\n        \"std\": 0.525859596359298,\n        \"min\": 0.0,\n        \"max\": 2.0,\n        \"num_unique_values\": 3,\n        \"samples\": [\n          0.0,\n          1.0\n        ],\n        \"semantic_type\": \"\",\n        \"description\": \"\"\n      }\n    },\n    {\n      \"column\": \"thalach\",\n      \"properties\": {\n        \"dtype\": \"number\",\n        \"std\": 22.905161114914087,\n        \"min\": 71.0,\n        \"max\": 202.0,\n        \"num_unique_values\": 91,\n        \"samples\": [\n          159.0,\n          152.0\n        ],\n        \"semantic_type\": \"\",\n        \"description\": \"\"\n      }\n    },\n    {\n      \"column\": \"exang\",\n      \"properties\": {\n        \"dtype\": \"number\",\n        \"std\": 0.46979446452231716,\n        \"min\": 0.0,\n        \"max\": 1.0,\n        \"num_unique_values\": 2,\n        \"samples\": [\n          1.0,\n          0.0\n        ],\n        \"semantic_type\": \"\",\n        \"description\": \"\"\n      }\n    },\n    {\n      \"column\": \"oldpeak\",\n      \"properties\": {\n        \"dtype\": \"number\",\n        \"std\": 1.1610750220686343,\n        \"min\": 0.0,\n        \"max\": 6.2,\n        \"num_unique_values\": 40,\n        \"samples\": [\n          1.9,\n          3.0\n        ],\n        \"semantic_type\": \"\",\n        \"description\": \"\"\n      }\n    },\n    {\n      \"column\": \"slope\",\n      \"properties\": {\n        \"dtype\": \"number\",\n        \"std\": 0.6162261453459631,\n        \"min\": 0.0,\n        \"max\": 2.0,\n        \"num_unique_values\": 3,\n        \"samples\": [\n          0.0,\n          2.0\n        ],\n        \"semantic_type\": \"\",\n        \"description\": \"\"\n      }\n    },\n    {\n      \"column\": \"ca\",\n      \"properties\": {\n        \"dtype\": \"number\",\n        \"std\": 1.0226063649693276,\n        \"min\": 0.0,\n        \"max\": 4.0,\n        \"num_unique_values\": 5,\n        \"samples\": [\n          2.0,\n          4.0\n        ],\n        \"semantic_type\": \"\",\n        \"description\": \"\"\n      }\n    },\n    {\n      \"column\": \"thal\",\n      \"properties\": {\n        \"dtype\": \"number\",\n        \"std\": 0.6122765072781412,\n        \"min\": 0.0,\n        \"max\": 3.0,\n        \"num_unique_values\": 4,\n        \"samples\": [\n          2.0,\n          0.0\n        ],\n        \"semantic_type\": \"\",\n        \"description\": \"\"\n      }\n    },\n    {\n      \"column\": \"target\",\n      \"properties\": {\n        \"dtype\": \"number\",\n        \"std\": 0.4988347841643926,\n        \"min\": 0.0,\n        \"max\": 1.0,\n        \"num_unique_values\": 2,\n        \"samples\": [\n          0.0,\n          1.0\n        ],\n        \"semantic_type\": \"\",\n        \"description\": \"\"\n      }\n    }\n  ]\n}"
            }
          },
          "metadata": {},
          "execution_count": 11
        }
      ]
    },
    {
      "cell_type": "code",
      "execution_count": 12,
      "metadata": {
        "id": "CktYD5_ryLBW",
        "outputId": "922a2bca-b79d-40f8-898d-b0457a07c199",
        "colab": {
          "base_uri": "https://localhost:8080/"
        }
      },
      "outputs": [
        {
          "output_type": "stream",
          "name": "stdout",
          "text": [
            "Dataset shape (features): (303, 13)\n",
            "Dataset shape (target): (303,)\n",
            "\n",
            "First 5 rows of features (X):\n",
            "    age  sex   cp  trestbps   chol  fbs  restecg  thalach  exang  oldpeak  \\\n",
            "0  63.0  1.0  3.0     145.0  233.0  1.0      0.0    150.0    0.0      2.3   \n",
            "1  37.0  1.0  2.0     130.0  250.0  0.0      1.0    187.0    0.0      3.5   \n",
            "2  41.0  0.0  1.0     130.0  204.0  0.0      0.0    172.0    0.0      1.4   \n",
            "3  56.0  1.0  1.0     120.0  236.0  0.0      1.0    178.0    0.0      0.8   \n",
            "4  57.0  0.0  0.0     120.0  354.0  0.0      1.0    163.0    1.0      0.6   \n",
            "\n",
            "   slope   ca  thal  \n",
            "0    0.0  0.0   1.0  \n",
            "1    0.0  0.0   2.0  \n",
            "2    2.0  0.0   2.0  \n",
            "3    2.0  0.0   2.0  \n",
            "4    2.0  0.0   2.0  \n",
            "\n",
            "First 5 rows of target (y):\n",
            "0    1.0\n",
            "1    1.0\n",
            "2    1.0\n",
            "3    1.0\n",
            "4    1.0\n",
            "Name: target, dtype: float64\n",
            "\n",
            "Data types and missing values:\n",
            "<class 'pandas.core.frame.DataFrame'>\n",
            "RangeIndex: 303 entries, 0 to 302\n",
            "Data columns (total 13 columns):\n",
            " #   Column    Non-Null Count  Dtype  \n",
            "---  ------    --------------  -----  \n",
            " 0   age       303 non-null    float64\n",
            " 1   sex       303 non-null    float64\n",
            " 2   cp        303 non-null    float64\n",
            " 3   trestbps  303 non-null    float64\n",
            " 4   chol      303 non-null    float64\n",
            " 5   fbs       303 non-null    float64\n",
            " 6   restecg   303 non-null    float64\n",
            " 7   thalach   303 non-null    float64\n",
            " 8   exang     303 non-null    float64\n",
            " 9   oldpeak   303 non-null    float64\n",
            " 10  slope     303 non-null    float64\n",
            " 11  ca        303 non-null    float64\n",
            " 12  thal      303 non-null    float64\n",
            "dtypes: float64(13)\n",
            "memory usage: 30.9 KB\n",
            "None\n",
            "\n",
            "Missing value counts per column:\n",
            "age         0\n",
            "sex         0\n",
            "cp          0\n",
            "trestbps    0\n",
            "chol        0\n",
            "fbs         0\n",
            "restecg     0\n",
            "thalach     0\n",
            "exang       0\n",
            "oldpeak     0\n",
            "slope       0\n",
            "ca          0\n",
            "thal        0\n",
            "dtype: int64\n",
            "\n",
            "Target variable distribution:\n",
            "target\n",
            "1.0    0.544554\n",
            "0.0    0.455446\n",
            "Name: proportion, dtype: float64\n"
          ]
        }
      ],
      "source": [
        "y_raw = d.frame.pop('target')\n",
        "X_raw = d.frame\n",
        "\n",
        "# Display basic information\n",
        "print(\"Dataset shape (features):\", X_raw.shape)\n",
        "print(\"Dataset shape (target):\", y_raw.shape)\n",
        "\n",
        "print(\"\\nFirst 5 rows of features (X):\")\n",
        "print(X_raw.head())\n",
        "\n",
        "print(\"\\nFirst 5 rows of target (y):\")\n",
        "print(pd.Series(y_raw).head()) # Convert numpy array to Series for display\n",
        "\n",
        "print(\"\\nData types and missing values:\")\n",
        "print(X_raw.info())\n",
        "\n",
        "print(\"\\nMissing value counts per column:\")\n",
        "print(X_raw.isnull().sum())\n",
        "\n",
        "# Check target distribution\n",
        "print(\"\\nTarget variable distribution:\")\n",
        "print(pd.Series(y_raw).value_counts(normalize=True))"
      ]
    },
    {
      "cell_type": "markdown",
      "metadata": {
        "id": "gAputF4_yLBW"
      },
      "source": [
        "## 2. Biomedical-Driven Pre-processing\n",
        "\n",
        "The dataset loaded via `shap.datasets.heart()` is already relatively clean:\n",
        "*   **Missing Values:** No missing values are present in this version. In a typical biomedical dataset, missing values are common and require careful handling (e.g., median imputation for skewed distributions, mean imputation, or more sophisticated methods like K-Nearest Neighbors imputation, considering clinical plausibility).\n",
        "*   **Categorical Encoding:** The features appear to be numerically encoded already. If we had categorical strings (e.g., 'Male'/'Female'), we would need encoding (One-Hot Encoding is common, Target Encoding can be useful but risks target leakage if not done carefully within cross-validation).\n",
        "*   **Train/Validation/Test Split:** We need to split the data to train the model and evaluate its performance and interpretations on unseen data. A standard split (e.g., 70% train, 30% validation/test) is sufficient here. For datasets with multiple records per patient, patient-level splitting is crucial to prevent data leakage. We'll use a simple random split for this example. We'll use `validation` terminology for the set used for SHAP analysis, which also serves as our test set for performance evaluation in this simpler setup. We use `random_state` for reproducibility."
      ]
    },
    {
      "cell_type": "code",
      "execution_count": 13,
      "metadata": {
        "id": "eVnyZcAiyLBX",
        "outputId": "fae289df-e603-4f65-b4d6-4b1294b3dc6c",
        "colab": {
          "base_uri": "https://localhost:8080/"
        }
      },
      "outputs": [
        {
          "output_type": "stream",
          "name": "stdout",
          "text": [
            "Training set shape: (212, 13)\n",
            "Validation set shape: (91, 13)\n"
          ]
        }
      ],
      "source": [
        "# Split data into training and validation/test sets\n",
        "# Using 70% for training and 30% for validation/testing\n",
        "X_train, X_val, y_train, y_val = train_test_split(X_raw, y_raw, test_size=0.3, random_state=42, stratify=y_raw)\n",
        "\n",
        "print(\"Training set shape:\", X_train.shape)\n",
        "print(\"Validation set shape:\", X_val.shape)"
      ]
    },
    {
      "cell_type": "markdown",
      "metadata": {
        "id": "Ae7eAZSyyLBX"
      },
      "source": [
        "## 3. Train a Predictive Model\n",
        "\n",
        "We will train a **Gradient Boosting Classifier (GBC)**.\n",
        "*   **Why GBC?** It's a powerful tree-based ensemble model often achieving good performance on tabular data. Crucially, SHAP has a highly optimized and exact algorithm (`TreeSHAP`) specifically for tree-based models like GBC, LightGBM, and XGBoost, making interpretation efficient and accurate.\n",
        "\n",
        "*   **Performance:** Before interpreting a model, it's essential to verify it has reasonable predictive power. We'll evaluate the model using **Area Under the Receiver Operating Characteristic Curve (AUROC)** and **Area Under the Precision-Recall Curve (PR-AUC)** on the validation set. High performance suggests the model has learned meaningful patterns from the data, making its explanations more likely to be insightful. Interpretability methods applied to poorly performing models yield unreliable insights."
      ]
    },
    {
      "cell_type": "code",
      "execution_count": 14,
      "metadata": {
        "id": "UWOH6z2ByLBX",
        "outputId": "0f2e217a-bc06-4a78-b289-af68e20eb38e",
        "colab": {
          "base_uri": "https://localhost:8080/"
        }
      },
      "outputs": [
        {
          "output_type": "stream",
          "name": "stdout",
          "text": [
            "Model Performance on Validation Set:\n",
            "AUROC: 0.8434\n",
            "PR-AUC: 0.8617\n"
          ]
        }
      ],
      "source": [
        "# Initialize and train the Gradient Boosting Classifier\n",
        "model = GradientBoostingClassifier(n_estimators=100, random_state=42)\n",
        "model.fit(X_train, y_train)\n",
        "\n",
        "# Predict probabilities on the validation set (needed for AUC calculation)\n",
        "y_pred_proba = model.predict_proba(X_val)[:, 1] # Probability of the positive class (heart disease)\n",
        "\n",
        "# Calculate performance metrics\n",
        "auroc = roc_auc_score(y_val, y_pred_proba)\n",
        "pr_auc = average_precision_score(y_val, y_pred_proba)\n",
        "\n",
        "print(f\"Model Performance on Validation Set:\")\n",
        "print(f\"AUROC: {auroc:.4f}\")\n",
        "print(f\"PR-AUC: {pr_auc:.4f}\")\n",
        "\n",
        "# Check if performance is reasonable (e.g., AUROC > 0.7 is often considered acceptable, > 0.8 good)\n",
        "if auroc < 0.7:\n",
        "    print(\"\\nWarning: Model performance is relatively low. Interpretations might be less reliable.\")"
      ]
    },
    {
      "cell_type": "markdown",
      "metadata": {
        "id": "HKD-aroCyLBX"
      },
      "source": [
        "## 4. A 5-Minute SHAP Theory Primer\n",
        "\n",
        "*   **Origin:** Shapley values come from cooperative game theory, designed to fairly distribute the \"payout\" (model prediction) among \"players\" (features).\n",
        "*   **SHAP:** SHAP (SHapley Additive exPlanations) adapts this concept for machine learning models. It guarantees certain desirable properties for feature attributions:\n",
        "    *   **Local Accuracy:** The sum of SHAP values for a single prediction equals the difference between the model's output for that instance and the baseline (average) prediction. `sum(shap_values[i]) ≈ model.predict(xi) - baseline`\n",
        "    *   **Missingness:** Features that are truly missing in the input data (or assigned a value indicating absence) should have a SHAP value of zero.\n",
        "    *   **Consistency:** If a model changes so that a feature's marginal contribution increases or stays the same (regardless of other features), its SHAP value should not decrease.\n",
        "*   **Intuition:** A feature's SHAP value represents its average marginal contribution to the prediction across all possible combinations (coalitions) of other features. It quantifies how much this feature's value pushed the prediction away from the average prediction.\n",
        "*   **Explainer Types:** SHAP provides different explainers optimized for various model types:\n",
        "    *   **TreeSHAP:** Fast and exact for tree-based models (like the GBC we are using).\n",
        "    *   **KernelSHAP:** Model-agnostic, works for any model but can be slower. Approximates Shapley values.\n",
        "    *   **DeepSHAP (DeepLIFT):** Optimized for deep learning models.\n",
        "    *   *Others:* GradientExplainer, LinearExplainer, etc."
      ]
    },
    {
      "cell_type": "markdown",
      "metadata": {
        "id": "jpMlHgsxyLBY"
      },
      "source": [
        "## 5. Computing SHAP Values\n",
        "\n",
        "Since we trained a `GradientBoostingClassifier`, we use `shap.TreeExplainer`. We compute the SHAP values for our validation set (`X_val`). This calculates the contribution of each feature to the prediction for every patient in the validation set. The result is typically a NumPy array where rows correspond to patients and columns correspond to features. For binary classification, `shap_values` often represent the impact on the probability of the positive class (class 1, i.e., presence of heart disease)."
      ]
    },
    {
      "cell_type": "code",
      "execution_count": 15,
      "metadata": {
        "id": "tca7q7GayLBY",
        "outputId": "b8c73a53-db5a-4fde-8ea3-3f036681d13d",
        "colab": {
          "base_uri": "https://localhost:8080/"
        }
      },
      "outputs": [
        {
          "output_type": "stream",
          "name": "stdout",
          "text": [
            "SHAP values array shape: (91, 13)\n",
            "SHAP Explanation object type: <class 'shap._explanation.Explanation'>\n"
          ]
        }
      ],
      "source": [
        "# Initialize the SHAP explainer for our tree-based model\n",
        "explainer = shap.TreeExplainer(model)\n",
        "\n",
        "# Compute SHAP values for the validation set\n",
        "# For GBC binary classification, shap_values usually correspond to the positive class (class 1)\n",
        "shap_values_array = explainer.shap_values(X_val) # returns ndarray\n",
        "\n",
        "# For newer SHAP versions, explainer(X_val) returns a richer Explanation object\n",
        "# This is often preferred for plotting and analysis\n",
        "shap_values_exp = explainer(X_val)\n",
        "\n",
        "# Check the shape of the SHAP values array\n",
        "print(\"SHAP values array shape:\", shap_values_array.shape) # Should be (n_samples_val, n_features)\n",
        "# Check the type and structure of the Explanation object\n",
        "print(\"SHAP Explanation object type:\", type(shap_values_exp))"
      ]
    },
    {
      "cell_type": "markdown",
      "metadata": {
        "id": "nBfF31w2yLBY"
      },
      "source": [
        "## 6. Global Feature Importance\n",
        "\n",
        "We can get a global understanding of feature importance by averaging the *absolute* SHAP values across all samples. This `mean(|SHAP value|)` indicates the average magnitude of impact a feature has on the model's predictions.\n",
        "\n",
        "*   **Difference from Model Importance:** Standard feature importance metrics from tree models (like Gini importance or permutation importance) measure how useful a feature is for splitting nodes or how much performance drops when shuffled, respectively. SHAP values provide a more nuanced view based on the magnitude and direction of impact on the *model output scale* (e.g., log-odds for classifiers).\n",
        "*   **Biomedical Angle:** Do the top features identified by SHAP align with known clinical risk factors for heart disease? For example, we might expect `ChestPain`, `MaxHR`, `Age`, `Chol`, and `Thal` to be important. Unexpected high importance for a feature might warrant further investigation (is it a true finding, or an artifact of the data/model?).\n",
        "\n",
        "We can visualize this using a bar plot or a beeswarm plot. The beeswarm plot is particularly informative as it shows the distribution of SHAP values for each feature, revealing not just importance but also the *direction* of the effect (e.g., high cholesterol generally increases risk prediction)."
      ]
    },
    {
      "cell_type": "code",
      "execution_count": 16,
      "metadata": {
        "id": "bYcHiSqSyLBY",
        "outputId": "cb433892-5117-43ea-901d-b527cc94907a",
        "colab": {
          "base_uri": "https://localhost:8080/",
          "height": 1000
        }
      },
      "outputs": [
        {
          "output_type": "stream",
          "name": "stdout",
          "text": [
            "Global Feature Importance (Bar Plot):\n"
          ]
        },
        {
          "output_type": "display_data",
          "data": {
            "text/plain": [
              "<Figure size 800x800 with 1 Axes>"
            ],
            "image/png": "[encoded data removed]"
          },
          "metadata": {}
        },
        {
          "output_type": "stream",
          "name": "stdout",
          "text": [
            "\n",
            "Global Feature Importance (Beeswarm Plot):\n"
          ]
        },
        {
          "output_type": "display_data",
          "data": {
            "text/plain": [
              "<Figure size 800x670 with 2 Axes>"
            ],
            "image/png": "[encoded data removed]"
          },
          "metadata": {}
        }
      ],
      "source": [
        "# Using the Explanation object directly for plotting (newer API)\n",
        "\n",
        "# Bar plot: Shows mean absolute SHAP value per feature\n",
        "print(\"Global Feature Importance (Bar Plot):\")\n",
        "shap.plots.bar(shap_values_exp, max_display=15) # Show top 15 features\n",
        "plt.show() # Ensure plot is displayed\n",
        "\n",
        "# Beeswarm plot: Shows SHAP value distribution for each feature\n",
        "# Color represents feature value (red=high, blue=low)\n",
        "print(\"\\nGlobal Feature Importance (Beeswarm Plot):\")\n",
        "shap.summary_plot(shap_values_exp, X_val, max_display=15) # Default plot_type='dot' (beeswarm)\n",
        "# No plt.show() needed for summary_plot typically, but added for consistency if needed"
      ]
    },
    {
      "cell_type": "markdown",
      "metadata": {
        "id": "txEPMF9jyLBY"
      },
      "source": [
        "**Interpretation of Beeswarm:**\n",
        "*   Each point is a patient-feature SHAP value.\n",
        "*   **X-axis:** SHAP value (impact on model output, positive pushes towards heart disease prediction).\n",
        "*   **Y-axis:** Features, ordered by global importance (mean absolute SHAP value).\n",
        "*   **Color:** Feature value for that patient (high=red, low=blue).\n",
        "\n",
        "For example, for `ChestPain`, we might see that low values (blue points, potentially indicating typical angina) have positive SHAP values (pushing towards disease prediction), while high values (red points, asymptomatic) have negative SHAP values. For `MaxHR`, high values (red) likely have negative SHAP values (protective), while low values (blue) have positive SHAP values (risk factor)."
      ]
    },
    {
      "cell_type": "markdown",
      "metadata": {
        "id": "fJ77XcmGyLBZ"
      },
      "source": [
        "## 7. Dependence & Interaction Plots\n",
        "\n",
        "SHAP dependence plots show how the model's prediction for a single feature changes as the feature's value varies. We can also visualize interaction effects by coloring the points based on the value of a second feature.\n",
        "\n",
        "*   **Example:** How does the impact of maximum heart rate (`MaxHR`) change with patient `Age`? Does high cholesterol (`Chol`) affect risk differently for younger vs. older patients?\n",
        "*   **Warning:** These plots show correlations learned by the model, *not necessarily causation*. Also, be cautious about interpreting patterns in sparse regions of the plot where there is little data support (extrapolation)."
      ]
    },
    {
      "cell_type": "code",
      "execution_count": 17,
      "metadata": {
        "id": "SGvO8qeCyLBZ",
        "outputId": "d1c23075-eb99-409f-e3aa-632115b8e8b4",
        "colab": {
          "base_uri": "https://localhost:8080/",
          "height": 373
        }
      },
      "outputs": [
        {
          "output_type": "stream",
          "name": "stdout",
          "text": [
            "SHAP Dependence Plot for MaxHR, colored by Age:\n"
          ]
        },
        {
          "output_type": "error",
          "ename": "ValueError",
          "evalue": "Could not find feature named: MaxHR",
          "traceback": [
            "\u001b[0;31m---------------------------------------------------------------------------\u001b[0m",
            "\u001b[0;31mValueError\u001b[0m                                Traceback (most recent call last)",
            "\u001b[0;32m<ipython-input-17-ff078f90d7fb>\u001b[0m in \u001b[0;36m<cell line: 0>\u001b[0;34m()\u001b[0m\n\u001b[1;32m      2\u001b[0m \u001b[0;31m# Color points by 'Age' to see potential interaction\u001b[0m\u001b[0;34m\u001b[0m\u001b[0;34m\u001b[0m\u001b[0m\n\u001b[1;32m      3\u001b[0m \u001b[0mprint\u001b[0m\u001b[0;34m(\u001b[0m\u001b[0;34m\"SHAP Dependence Plot for MaxHR, colored by Age:\"\u001b[0m\u001b[0;34m)\u001b[0m\u001b[0;34m\u001b[0m\u001b[0;34m\u001b[0m\u001b[0m\n\u001b[0;32m----> 4\u001b[0;31m \u001b[0mshap\u001b[0m\u001b[0;34m.\u001b[0m\u001b[0mdependence_plot\u001b[0m\u001b[0;34m(\u001b[0m\u001b[0;34m\"MaxHR\"\u001b[0m\u001b[0;34m,\u001b[0m \u001b[0mshap_values_array\u001b[0m\u001b[0;34m,\u001b[0m \u001b[0mX_val\u001b[0m\u001b[0;34m,\u001b[0m \u001b[0minteraction_index\u001b[0m\u001b[0;34m=\u001b[0m\u001b[0;34m\"Age\"\u001b[0m\u001b[0;34m)\u001b[0m\u001b[0;34m\u001b[0m\u001b[0;34m\u001b[0m\u001b[0m\n\u001b[0m\u001b[1;32m      5\u001b[0m \u001b[0;34m\u001b[0m\u001b[0m\n\u001b[1;32m      6\u001b[0m \u001b[0;31m# Dependence plot for 'Chol' (Cholesterol)\u001b[0m\u001b[0;34m\u001b[0m\u001b[0;34m\u001b[0m\u001b[0m\n",
            "\u001b[0;32m/usr/local/lib/python3.11/dist-packages/shap/plots/_scatter.py\u001b[0m in \u001b[0;36mdependence_legacy\u001b[0;34m(ind, shap_values, features, feature_names, display_features, interaction_index, color, axis_color, cmap, dot_size, x_jitter, alpha, title, xmin, xmax, ax, show, ymin, ymax)\u001b[0m\n\u001b[1;32m    624\u001b[0m         \u001b[0mfeatures\u001b[0m \u001b[0;34m=\u001b[0m \u001b[0mnp\u001b[0m\u001b[0;34m.\u001b[0m\u001b[0mreshape\u001b[0m\u001b[0;34m(\u001b[0m\u001b[0mfeatures\u001b[0m\u001b[0;34m,\u001b[0m \u001b[0;34m(\u001b[0m\u001b[0mlen\u001b[0m\u001b[0;34m(\u001b[0m\u001b[0mfeatures\u001b[0m\u001b[0;34m)\u001b[0m\u001b[0;34m,\u001b[0m \u001b[0;36m1\u001b[0m\u001b[0;34m)\u001b[0m\u001b[0;34m)\u001b[0m\u001b[0;34m\u001b[0m\u001b[0;34m\u001b[0m\u001b[0m\n\u001b[1;32m    625\u001b[0m \u001b[0;34m\u001b[0m\u001b[0m\n\u001b[0;32m--> 626\u001b[0;31m     \u001b[0mind\u001b[0m \u001b[0;34m=\u001b[0m \u001b[0mconvert_name\u001b[0m\u001b[0;34m(\u001b[0m\u001b[0mind\u001b[0m\u001b[0;34m,\u001b[0m \u001b[0mshap_values\u001b[0m\u001b[0;34m,\u001b[0m \u001b[0mfeature_names\u001b[0m\u001b[0;34m)\u001b[0m\u001b[0;34m\u001b[0m\u001b[0;34m\u001b[0m\u001b[0m\n\u001b[0m\u001b[1;32m    627\u001b[0m \u001b[0;34m\u001b[0m\u001b[0m\n\u001b[1;32m    628\u001b[0m     \u001b[0;31m# guess what other feature as the stongest interaction with the plotted feature\u001b[0m\u001b[0;34m\u001b[0m\u001b[0;34m\u001b[0m\u001b[0m\n",
            "\u001b[0;32m/usr/local/lib/python3.11/dist-packages/shap/utils/_general.py\u001b[0m in \u001b[0;36mconvert_name\u001b[0;34m(ind, shap_values, input_names)\u001b[0m\n\u001b[1;32m     52\u001b[0m                 \u001b[0;32mreturn\u001b[0m \u001b[0;34m\"sum()\"\u001b[0m\u001b[0;34m\u001b[0m\u001b[0;34m\u001b[0m\u001b[0m\n\u001b[1;32m     53\u001b[0m             \u001b[0;32melse\u001b[0m\u001b[0;34m:\u001b[0m\u001b[0;34m\u001b[0m\u001b[0;34m\u001b[0m\u001b[0m\n\u001b[0;32m---> 54\u001b[0;31m                 \u001b[0;32mraise\u001b[0m \u001b[0mValueError\u001b[0m\u001b[0;34m(\u001b[0m\u001b[0;34m\"Could not find feature named: \"\u001b[0m \u001b[0;34m+\u001b[0m \u001b[0mind\u001b[0m\u001b[0;34m)\u001b[0m\u001b[0;34m\u001b[0m\u001b[0;34m\u001b[0m\u001b[0m\n\u001b[0m\u001b[1;32m     55\u001b[0m         \u001b[0;32melse\u001b[0m\u001b[0;34m:\u001b[0m\u001b[0;34m\u001b[0m\u001b[0;34m\u001b[0m\u001b[0m\n\u001b[1;32m     56\u001b[0m             \u001b[0;32mreturn\u001b[0m \u001b[0mnzinds\u001b[0m\u001b[0;34m[\u001b[0m\u001b[0;36m0\u001b[0m\u001b[0;34m]\u001b[0m\u001b[0;34m\u001b[0m\u001b[0;34m\u001b[0m\u001b[0m\n",
            "\u001b[0;31mValueError\u001b[0m: Could not find feature named: MaxHR"
          ]
        }
      ],
      "source": [
        "# Dependence plot for 'MaxHR' (Maximum Heart Rate Achieved)\n",
        "# Color points by 'Age' to see potential interaction\n",
        "print(\"SHAP Dependence Plot for MaxHR, colored by Age:\")\n",
        "shap.dependence_plot(\"MaxHR\", shap_values_array, X_val, interaction_index=\"Age\")\n",
        "\n",
        "# Dependence plot for 'Chol' (Cholesterol)\n",
        "# Color points by 'Age'\n",
        "print(\"\\nSHAP Dependence Plot for Chol, colored by Age:\")\n",
        "shap.dependence_plot(\"Chol\", shap_values_array, X_val, interaction_index=\"Age\")\n",
        "\n",
        "# Dependence plot for 'ChestPain'\n",
        "# Color points by 'Sex' (might show different patterns for males/females if Sex is important)\n",
        "print(\"\\nSHAP Dependence Plot for ChestPain, colored by Sex:\")\n",
        "shap.dependence_plot(\"ChestPain\", shap_values_array, X_val, interaction_index=\"Sex\")"
      ]
    },
    {
      "cell_type": "markdown",
      "metadata": {
        "id": "_yD8p28cyLBZ"
      },
      "source": [
        "**Interpretation of Dependence Plot:**\n",
        "*   **Y-axis:** SHAP value for the feature on the X-axis.\n",
        "*   **X-axis:** Value of the feature being plotted.\n",
        "*   **Color:** Value of the `interaction_index` feature.\n",
        "\n",
        "Look for trends (e.g., does the SHAP value for `MaxHR` generally decrease as `MaxHR` increases?) and vertical dispersion/patterns introduced by the interaction feature (e.g., are the red points consistently higher/lower than the blue points for a given `MaxHR` value?)."
      ]
    },
    {
      "cell_type": "markdown",
      "metadata": {
        "id": "CUWtXKlFyLBZ"
      },
      "source": [
        "## 8. Local (Per-Patient) Explanations\n",
        "\n",
        "SHAP excels at explaining individual predictions. Waterfall plots and force plots visualize how each feature contributes to moving the prediction for a single patient away from the baseline (average) prediction.\n",
        "\n",
        "*   **Sign Convention:**\n",
        "    *   **Positive SHAP values (red arrows in waterfall):** Features pushing the prediction towards 1 (presence of heart disease).\n",
        "    *   **Negative SHAP values (blue arrows in waterfall):** Features pushing the prediction towards 0 (absence of heart disease).\n",
        "*   **Baseline:** The `explainer.expected_value` represents the average prediction across the training dataset (often corresponds to the prevalence of the positive class in log-odds space).\n",
        "*   **Clinical Storytelling:** These plots can help explain a specific patient's risk profile. Start with the baseline risk (`E[f(X)]`), then describe how each key feature (e.g., high cholesterol, specific chest pain type, older age) adds to or subtracts from that baseline risk to arrive at the final prediction (`f(x)`)."
      ]
    },
    {
      "cell_type": "code",
      "execution_count": null,
      "metadata": {
        "id": "X873A-w2yLBZ"
      },
      "outputs": [],
      "source": [
        "# Choose an example patient index from the validation set\n",
        "idx = 7 # You can change this index to explore different patients\n",
        "\n",
        "# Initialize JavaScript visualization in the notebook for force plots\n",
        "shap.initjs()\n",
        "\n",
        "# Explain the prediction for this patient using a waterfall plot\n",
        "print(f\"Waterfall plot for patient index {idx}:\")\n",
        "\n",
        "# We need to create a SHAP Explanation object for a single instance for the waterfall plot\n",
        "# The base_values should be the explainer's expected value (average prediction)\n",
        "# The values are the SHAP values for this instance\n",
        "# The data is the feature values for this instance\n",
        "patient_explanation = shap.Explanation(values=shap_values_array[idx],\n",
        "                                       base_values=explainer.expected_value,\n",
        "                                       data=X_val.iloc[idx],\n",
        "                                       feature_names=X_val.columns.tolist())\n",
        "\n",
        "shap.plots.waterfall(patient_explanation, max_display=15)\n",
        "plt.show() # Ensure plot is displayed\n",
        "\n",
        "# Explain the prediction using a force plot\n",
        "print(f\"\\nForce plot for patient index {idx}:\")\n",
        "# Use the Explanation object slice directly (preferred way)\n",
        "shap.plots.force(shap_values_exp[idx])\n",
        "\n",
        "# Example: Force plot for multiple samples (can be slow/cluttered for too many)\n",
        "# print(\"\\nForce plot for the first 5 validation samples:\")\n",
        "# shap.plots.force(shap_values_exp[:5])"
      ]
    },
    {
      "cell_type": "markdown",
      "metadata": {
        "id": "n-3lvN6lyLBZ"
      },
      "source": [
        "**Interpretation of Local Plots:**\n",
        "*   **Waterfall:** Starts at the bottom with the base value (`E[f(X)]`). Each arrow represents a feature's contribution, adding (red) or subtracting (blue) from the value. The final value at the top (`f(x)`) is the model's output for this patient (often in log-odds). Features are typically ordered by the magnitude of their contribution.\n",
        "*   **Force Plot:** Shows the same information horizontally. Red features push the prediction higher (right), blue features push it lower (left). The width of the bar represents the magnitude of the SHAP value. The final prediction value is shown, along with the base value."
      ]
    },
    {
      "cell_type": "markdown",
      "metadata": {
        "id": "AMB2pIN_yLBZ"
      },
      "source": [
        "## 9. Model-Reliability Checks\n",
        "\n",
        "While SHAP provides detailed explanations, it's crucial to perform sanity checks and understand its limitations, especially in high-stakes domains like healthcare.\n",
        "\n",
        "*   **Compare to Domain Knowledge:** Does the global SHAP importance ranking align with established clinical risk factors? Are the directions of effects (e.g., high cholesterol increases risk) clinically plausible? Significant deviations warrant investigation.\n",
        "*   **Compare to Simpler Methods:** Does the SHAP ranking roughly align with univariate analyses (e.g., odds ratios from logistic regression on single features)? While SHAP captures interactions and non-linearities, major discrepancies might indicate issues.\n",
        "*   **Partial Dependence Plots (PDP):** PDPs show the average marginal effect of a feature. Compare the trend in a SHAP dependence plot (which shows individual conditional effects) to the corresponding PDP (which shows the average effect). They should generally align, though SHAP provides more granular detail.\n",
        "*   **Limitations:**\n",
        "    *   **Correlated Features:** SHAP, like Shapley values, can distribute the importance among highly correlated features. This might dilute the apparent importance of a single feature if it has strong correlates also included in the model.\n",
        "    *   **Association vs. Causation:** SHAP explains *what* the model learned, which is based on associations in the data. It does *not* imply causality. A feature might be important because it's a proxy for an unmeasured causal factor.\n",
        "    *   **Measurement Errors:** Errors or biases in how data was collected (e.g., lab measurement variability) can affect the model and its explanations. SHAP reflects the model's behavior on the given data, including its flaws.\n",
        "    *   **Model Dependence:** SHAP explains the *trained model*, not the underlying real-world process directly. Different models trained on the same data might yield different SHAP explanations."
      ]
    },
    {
      "cell_type": "markdown",
      "metadata": {
        "id": "k8vsfByByLBZ"
      },
      "source": [
        "## 10. Fairness & Ethics Sidebar (Optional but Recommended)\n",
        "\n",
        "SHAP can be a tool for auditing fairness, but requires careful application.\n",
        "\n",
        "*   **Auditing Protected Attributes:** Analyze the SHAP values for protected attributes (e.g., `Sex`, `Age` in this dataset) or features highly correlated with them (e.g., zip code as a proxy for race or socioeconomic status).\n",
        "    *   Does the model assign high importance to these features?\n",
        "    *   Are there significant differences in SHAP value distributions across different demographic groups (e.g., using beeswarm plots stratified by group)? This could indicate potential bias where the model relies differently on features for different groups.\n",
        "*   **When NOT to Show Explanations:**\n",
        "    *   **Privacy:** Explanations, especially local ones, reveal information about how a prediction was made based on sensitive input data. Sharing detailed explanations might inadvertently leak private information.\n",
        "    *   **Cognitive Overload / Misinterpretation:** Complex explanations might overwhelm or mislead users (clinicians, patients) if not presented clearly and with appropriate caveats. Over-simplification can also be dangerous.\n",
        "    *   **Gaming the System:** Detailed explanations could potentially be used by adversarial actors to manipulate inputs to achieve a desired outcome.\n",
        "\n",
        "Ethical use of model explanations requires balancing transparency with potential harms and ensuring interpretations are accurate and actionable."
      ]
    },
    {
      "cell_type": "markdown",
      "metadata": {
        "id": "WxNrp6auyLBa"
      },
      "source": [
        "## 11. Saving & Sharing Explanations\n",
        "\n",
        "Computing SHAP values, especially with KernelSHAP or for large datasets, can be time-consuming. It's often useful to save the computed values for later analysis or sharing.\n",
        "\n",
        "*   **Saving:** We can save the SHAP values array (e.g., using `joblib` or saving to formats like `.npy`, `.parquet`, `.feather`). Saving the `Explanation` object directly might be possible but can sometimes have serialization issues depending on the object's complexity; saving the core components (`.values`, `.base_values`, `.data`) might be more robust.\n",
        "*   **Sharing:** Individual plots (like waterfalls) can be saved as images. Force plots can be saved as HTML for interactive viewing (`shap.save_html`)."
      ]
    },
    {
      "cell_type": "code",
      "execution_count": null,
      "metadata": {
        "id": "6OVAoc8pyLBa"
      },
      "outputs": [],
      "source": [
        "# Create an output directory if it doesn't exist\n",
        "output_dir = pathlib.Path(\"outputs\")\n",
        "output_dir.mkdir(exist_ok=True)\n",
        "\n",
        "# Save the SHAP values array (NumPy array)\n",
        "shap_values_filename = output_dir / \"shap_values_heart_disease.pkl\"\n",
        "joblib.dump(shap_values_array, shap_values_filename)\n",
        "print(f\"SHAP values array saved to: {shap_values_filename}\")\n",
        "\n",
        "# Optionally, save the explainer's expected value (useful for reconstructing explanations)\n",
        "expected_value_filename = output_dir / \"explainer_expected_value.pkl\"\n",
        "joblib.dump(explainer.expected_value, expected_value_filename)\n",
        "print(f\"Explainer expected value saved to: {expected_value_filename}\")\n",
        "\n",
        "# Example: Save a specific waterfall plot as an image file\n",
        "idx_to_save = 10\n",
        "patient_explanation_to_save = shap.Explanation(values=shap_values_array[idx_to_save],\n",
        "                                                base_values=explainer.expected_value,\n",
        "                                                data=X_val.iloc[idx_to_save],\n",
        "                                                feature_names=X_val.columns.tolist())\n",
        "\n",
        "waterfall_img_filename = output_dir / f\"waterfall_patient_{idx_to_save}.png\"\n",
        "fig, ax = plt.subplots() # Create a figure to save\n",
        "shap.plots.waterfall(patient_explanation_to_save, max_display=15, show=False) # Draw on the ax\n",
        "fig.savefig(waterfall_img_filename, bbox_inches='tight') # Save the figure\n",
        "plt.close(fig) # Close the figure to prevent displaying it here\n",
        "print(f\"Waterfall plot image saved for patient {idx_to_save} to: {waterfall_img_filename}\")\n",
        "\n",
        "# Example: Save a force plot as HTML\n",
        "force_plot_html_filename = output_dir / f\"force_plot_patient_{idx_to_save}.html\"\n",
        "# Need to pass the specific Explanation slice to shap.plots.force\n",
        "force_plot_obj = shap.plots.force(shap_values_exp[idx_to_save])\n",
        "shap.save_html(str(force_plot_html_filename), force_plot_obj)\n",
        "print(f\"Force plot HTML saved for patient {idx_to_save} to: {force_plot_html_filename}\")"
      ]
    },
    {
      "cell_type": "markdown",
      "metadata": {
        "id": "eBrVRrrLyLBa"
      },
      "source": [
        "## 12. Conclusions & Takeaways\n",
        "\n",
        "This notebook demonstrated the application of SHAP for interpreting a Gradient Boosting model trained on the UCI Heart Disease dataset.\n",
        "\n",
        "*   **Key Findings:**\n",
        "    *   We identified the globally most important features driving heart disease predictions (e.g., `ChestPain`, `Thal`, `Ca`, `MaxHR`). The beeswarm plot provided insights into the direction and distribution of these impacts.\n",
        "    *   Dependence plots illustrated non-linear relationships and potential interactions (e.g., the effect of `MaxHR` potentially varying with `Age`).\n",
        "    *   Local waterfall and force plots allowed us to dissect the prediction for individual patients, showing how specific clinical factors contributed to their predicted risk.\n",
        "*   **Actionability:**\n",
        "    *   **Clinicians:** Explanations can increase trust and understanding of model predictions at the point of care (with appropriate caveats). They can highlight key risk factors for a specific patient, potentially guiding further investigation or discussion.\n",
        "    *   **Researchers:** SHAP can help validate model alignment with clinical knowledge, generate hypotheses about feature interactions, and guide feature engineering or data collection efforts. It can also be used in model debugging and fairness audits.\n",
        "*   **Next Steps:**\n",
        "    *   **Cross-Dataset Validation:** Apply the model and SHAP analysis to other heart disease datasets to check the robustness of the findings.\n",
        "    *   **Alternative Models:** Compare SHAP explanations from different model types (e.g., Logistic Regression using `LinearExplainer`, Neural Networks using `DeepExplainer`).\n",
        "    *   **Causal Inference:** Combine SHAP with causal inference techniques if the goal is to understand causal effects rather than just model behavior.\n",
        "    *   **Fairness Deep Dive:** Conduct a more thorough fairness analysis using SHAP values stratified by sensitive attributes."
      ]
    },
    {
      "cell_type": "markdown",
      "metadata": {
        "id": "KUSUGRJhyLBa"
      },
      "source": [
        "## References\n",
        "\n",
        "*   Lundberg, S. M., & Lee, S.-I. (2017). A Unified Approach to Interpreting Model Predictions. *Advances in Neural Information Processing Systems (NIPS)*, 30. [https://papers.nips.cc/paper/2017/hash/8a20a8621978632d76c43dfd28b67767-Abstract.html](https://papers.nips.cc/paper/2017/hash/8a20a8621978632d76c43dfd28b67767-Abstract.html)\n",
        "*   Lundberg, S. M., Erion, G., Chen, H., DeGrave, A., Prutkin, J. M., Nair, B., Katz, R., Himmelfarb, J., Bansal, N., & Lee, S.-I. (2020). From local explanations to global understanding with explainable AI for trees. *Nature Machine Intelligence*, 2(1), 56–67. [https://doi.org/10.1038/s42256-019-0138-9](https://doi.org/10.1038/s42256-019-0138-9)\n",
        "*   (Optional) Add links to specific biomedical papers using SHAP, e.g.:\n",
        "    *   *Example:* Avery, K. M., et al. (Year). \"Interpretable machine learning for predicting [Specific Outcome] using electronic health records.\" *Journal Name*.\n",
        "    *   *Example:* Liu, Y., et al. (Year). \"Using SHAP to understand drivers of sepsis mortality prediction.\" *Critical Care Medicine*."
      ]
    }
  ],
  "metadata": {
    "kernelspec": {
      "display_name": "Python 3 (ipykernel)",
      "language": "python",
      "name": "python3"
    },
    "language_info": {
      "codemirror_mode": {
        "name": "ipython",
        "version": 3
      },
      "file_extension": ".py",
      "mimetype": "text/x-python",
      "name": "python",
      "nbconvert_exporter": "python",
      "pygments_lexer": "ipython3",
      "version": "3.9.12"
    },
    "vscode": {
      "interpreter": {
        "hash": "d8f0fa01444dfa4ac3f7a6d2f6287ea700e4700701517b853b8d0d811801123d"
      }
    },
    "colab": {
      "provenance": [],
      "include_colab_link": true
    }
  },
  "nbformat": 4,
  "nbformat_minor": 0
}